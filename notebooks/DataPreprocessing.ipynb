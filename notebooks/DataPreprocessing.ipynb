{
 "cells": [
  {
   "cell_type": "markdown",
   "id": "67cba4cb-4158-4fe9-b38d-8961771c2d71",
   "metadata": {},
   "source": [
    "### Python Notebook for Data Preprocessing:\n",
    "\n",
    "This notebook performs **data preprocessing** for a resume generation AI model. It processes raw input data to make it suitable for machine learning.\n",
    "\n",
    "#### **Steps in the Notebook:**\n",
    "1. **Import Required Libraries**  \n",
    "   - Uses `pandas` for data handling, `numpy` for numerical operations, and `sklearn` for preprocessing.\n",
    "\n",
    "2. **Define `preprocess_data` Function**  \n",
    "   - Handles missing values by imputing the mean (if enabled).  \n",
    "   - Normalizes numerical features (Years of Experience, Salary) using `StandardScaler`.  \n",
    "   - One-hot encodes categorical features (Job Title, Education Level, Skills, Location).  \n",
    "   - Returns a cleaned and structured DataFrame ready for model training.\n",
    "\n",
    "3. **Define `clean_text` Function**  \n",
    "   - Removes special characters and extra spaces from resume text fields.\n",
    "\n",
    "4. **Create Sample Data**  \n",
    "   - Generates a small dataset containing job-related information (Job Title, Skills, Experience, etc.).\n",
    "\n",
    "5. **Apply Preprocessing to the Sample Data**  \n",
    "   - Calls `preprocess_data()` to clean, normalize, and encode the data.  \n",
    "   - Displays the final structured DataFrame.\n",
    "\n",
    "\n"
   ]
  },
  {
   "cell_type": "markdown",
   "id": "e25c42e7-3e9c-415f-989b-9ca0b1433d2c",
   "metadata": {},
   "source": [
    "| Job Title         | Years of Experience | Education Level | Skills                       | Salary  | Location      |\n",
    "|------------------|--------------------|----------------|-----------------------------|---------|--------------|\n",
    "| Software Engineer | 3                  | Masters        | Python, SQL                 | 70000   | New York     |\n",
    "| Data Scientist    | 5                  | PhD            | Python, Machine Learning    | 120000  | San Francisco|\n",
    "| Web Developer    | 2                  | Bachelors      | JavaScript, HTML, CSS       | 60000   | Chicago      |\n"
   ]
  },
  {
   "cell_type": "code",
   "execution_count": 11,
   "id": "d3776bbf-26dc-4741-b977-e118cad5ad15",
   "metadata": {},
   "outputs": [],
   "source": [
    "def preprocess_data(data, normalize=True, handle_missing=True):\n",
    "    \"\"\"\n",
    "    Clean and preprocess input data for the resume generation AI model.\n",
    "\n",
    "    Parameters\n",
    "    ----------\n",
    "    data : pandas.DataFrame\n",
    "        Raw input data containing resume information such as job title, skills, education, etc.\n",
    "    normalize : bool, default=True\n",
    "        Whether to normalize numerical features (e.g., years of experience, education score).\n",
    "    handle_missing : bool, default=True\n",
    "        Whether to handle missing values by imputing or removing them.\n",
    "        \n",
    "    Returns\n",
    "    -------\n",
    "    pandas.DataFrame\n",
    "        Preprocessed data ready for input into the AI model.\n",
    "    \"\"\"\n",
    "    # 1. Handle Missing Values\n",
    "    if handle_missing:\n",
    "        # Separate numerical and categorical columns\n",
    "        numerical_columns = data.select_dtypes(include=[np.number]).columns\n",
    "        categorical_columns = data.select_dtypes(exclude=[np.number]).columns\n",
    "        \n",
    "        # Apply imputer only to numerical columns\n",
    "        imputer = SimpleImputer(strategy='mean')\n",
    "        data[numerical_columns] = imputer.fit_transform(data[numerical_columns])\n",
    "\n",
    "    # 2. Normalize Numerical Features\n",
    "    if normalize:\n",
    "        numerical_columns = data.select_dtypes(include=[np.number]).columns\n",
    "        scaler = StandardScaler()\n",
    "        data[numerical_columns] = scaler.fit_transform(data[numerical_columns])\n",
    "\n",
    "    # 3. Encode Categorical Features (Job Title, Education Level, etc.)\n",
    "    data = pd.get_dummies(data, drop_first=True)\n",
    "\n",
    "    return data\n"
   ]
  },
  {
   "cell_type": "code",
   "execution_count": 12,
   "id": "ac64c3b0-b251-4510-b7fe-3faf96c174a4",
   "metadata": {},
   "outputs": [
    {
     "name": "stdout",
     "output_type": "stream",
     "text": [
      "   Years of Experience    Salary  Job Title_Software Engineer  \\\n",
      "0            -0.267261 -0.508001                         True   \n",
      "1             1.336306  1.397001                        False   \n",
      "2            -1.069045 -0.889001                        False   \n",
      "\n",
      "   Job Title_Web Developer  Education Level_Masters  Education Level_PhD  \\\n",
      "0                    False                     True                False   \n",
      "1                    False                    False                 True   \n",
      "2                     True                    False                False   \n",
      "\n",
      "   Skills_Python, Machine Learning  Skills_Python, SQL  Location_New York  \\\n",
      "0                            False                True               True   \n",
      "1                             True               False              False   \n",
      "2                            False               False              False   \n",
      "\n",
      "   Location_San Francisco  \n",
      "0                   False  \n",
      "1                    True  \n",
      "2                   False  \n"
     ]
    }
   ],
   "source": [
    "import pandas as pd\n",
    "import numpy as np\n",
    "from sklearn.preprocessing import StandardScaler\n",
    "from sklearn.impute import SimpleImputer\n",
    "\n",
    "# Sample Data (replace this with any data you want)\n",
    "sample_data = {\n",
    "    'Job Title': ['Software Engineer', 'Data Scientist', 'Web Developer'],\n",
    "    'Years of Experience': [3, 5, 2],\n",
    "    'Education Level': ['Masters', 'PhD', 'Bachelors'],\n",
    "    'Skills': ['Python, SQL', 'Python, Machine Learning', 'JavaScript, HTML, CSS'],\n",
    "    'Salary': [70000, 120000, 60000],\n",
    "    'Location': ['New York', 'San Francisco', 'Chicago']\n",
    "}\n",
    "\n",
    "# Convert sample data to a DataFrame\n",
    "raw_data = pd.DataFrame(sample_data)\n",
    "\n",
    "# Preprocess data\n",
    "processed_data = preprocess_data(raw_data)\n",
    "\n",
    "# Display the preprocessed data\n",
    "print(processed_data)\n"
   ]
  },
  {
   "cell_type": "markdown",
   "id": "61ba0c8b-f853-473e-850c-2b73395f8bbf",
   "metadata": {},
   "source": [
    "### Explanation of the Table:\n",
    "\n",
    "- **Numerical values** (Years of Experience, Salary) have been **normalized** using StandardScaler.\n",
    "- **Categorical values** (Job Title, Education Level, Skills, Location) have been **one-hot encoded** into binary columns.\n",
    "- **1 = True** (the feature applies to this row), **0 = False** (the feature does not apply).\n",
    "\n",
    "#### **Outcome:**\n",
    "- The processed dataset is now in a format that can be used as input for an AI model, enabling more efficient resume generation.\n",
    "\n",
    "|   Years of Experience |   Salary  | Job Title_Software Engineer | Job Title_Web Developer | Education Level_Masters | Education Level_PhD | Skills_Python, Machine Learning | Skills_Python, SQL | Location_New York | Location_San Francisco |\n",
    "|----------------------:|----------:|----------------------------:|------------------------:|------------------------:|--------------------:|--------------------------------:|------------------:|-----------------:|--------------------:|\n",
    "|            -0.267261 | -0.508001 |                           1 |                      0 |                      1 |                  0 |                              0 |                 1 |                1 |                  0 |\n",
    "|             1.336306 |  1.397001 |                           0 |                      0 |                      0 |                  1 |                              1 |                 0 |                0 |                  1 |\n",
    "|            -1.069045 | -0.889001 |                           0 |                      1 |                      0 |                  0 |                              0 |                 0 |                0 |                  0 |\n"
   ]
  },
  {
   "cell_type": "code",
   "execution_count": null,
   "id": "a747cc8d-9612-47f9-97ee-474a6d82a0b4",
   "metadata": {},
   "outputs": [],
   "source": []
  }
 ],
 "metadata": {
  "kernelspec": {
   "display_name": "Python 3.11 (default)",
   "language": "python",
   "name": "python3"
  },
  "language_info": {
   "codemirror_mode": {
    "name": "ipython",
    "version": 3
   },
   "file_extension": ".py",
   "mimetype": "text/x-python",
   "name": "python",
   "nbconvert_exporter": "python",
   "pygments_lexer": "ipython3",
   "version": "3.11.11"
  }
 },
 "nbformat": 4,
 "nbformat_minor": 5
}
